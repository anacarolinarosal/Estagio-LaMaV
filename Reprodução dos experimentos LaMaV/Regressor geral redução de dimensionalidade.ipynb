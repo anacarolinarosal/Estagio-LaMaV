{
 "cells": [
  {
   "cell_type": "code",
   "execution_count": 1,
   "metadata": {},
   "outputs": [
    {
     "name": "stderr",
     "output_type": "stream",
     "text": [
      "C:\\Users\\Alberico\\AppData\\Local\\Packages\\PythonSoftwareFoundation.Python.3.8_qbz5n2kfra8p0\\LocalCache\\local-packages\\Python38\\site-packages\\tqdm\\auto.py:22: TqdmWarning: IProgress not found. Please update jupyter and ipywidgets. See https://ipywidgets.readthedocs.io/en/stable/user_install.html\n",
      "  from .autonotebook import tqdm as notebook_tqdm\n"
     ]
    }
   ],
   "source": [
    "import pandas as pd\n",
    "import numpy as np\n",
    "import matplotlib.pyplot as plt\n",
    "import seaborn as sns\n",
    "from sklearn.metrics import f1_score\n",
    "from sklearn.preprocessing import MinMaxScaler\n",
    "from sklearn.model_selection import cross_val_score\n",
    "from sklearn.model_selection import KFold\n",
    "from sklearn import linear_model, tree, ensemble\n",
    "import umap"
   ]
  },
  {
   "cell_type": "code",
   "execution_count": 2,
   "metadata": {},
   "outputs": [],
   "source": [
    "dataset = pd.read_csv(\"data_tg_dupl_rem.csv\")"
   ]
  },
  {
   "cell_type": "code",
   "execution_count": 3,
   "metadata": {},
   "outputs": [
    {
     "data": {
      "text/html": [
       "<div>\n",
       "<style scoped>\n",
       "    .dataframe tbody tr th:only-of-type {\n",
       "        vertical-align: middle;\n",
       "    }\n",
       "\n",
       "    .dataframe tbody tr th {\n",
       "        vertical-align: top;\n",
       "    }\n",
       "\n",
       "    .dataframe thead th {\n",
       "        text-align: right;\n",
       "    }\n",
       "</style>\n",
       "<table border=\"1\" class=\"dataframe\">\n",
       "  <thead>\n",
       "    <tr style=\"text-align: right;\">\n",
       "      <th></th>\n",
       "      <th>Li</th>\n",
       "      <th>Be</th>\n",
       "      <th>B</th>\n",
       "      <th>O</th>\n",
       "      <th>Na</th>\n",
       "      <th>Mg</th>\n",
       "      <th>Al</th>\n",
       "      <th>Si</th>\n",
       "      <th>P</th>\n",
       "      <th>K</th>\n",
       "      <th>...</th>\n",
       "      <th>Hf</th>\n",
       "      <th>Ta</th>\n",
       "      <th>W</th>\n",
       "      <th>Hg</th>\n",
       "      <th>Tl</th>\n",
       "      <th>Pb</th>\n",
       "      <th>Bi</th>\n",
       "      <th>Th</th>\n",
       "      <th>U</th>\n",
       "      <th>Tg</th>\n",
       "    </tr>\n",
       "  </thead>\n",
       "  <tbody>\n",
       "    <tr>\n",
       "      <th>0</th>\n",
       "      <td>0.000000</td>\n",
       "      <td>0.0</td>\n",
       "      <td>0.0</td>\n",
       "      <td>0.631579</td>\n",
       "      <td>0.000000</td>\n",
       "      <td>0.000000</td>\n",
       "      <td>0.035088</td>\n",
       "      <td>0.245614</td>\n",
       "      <td>0.000000</td>\n",
       "      <td>0.0</td>\n",
       "      <td>...</td>\n",
       "      <td>0.0</td>\n",
       "      <td>0.0</td>\n",
       "      <td>0.000000</td>\n",
       "      <td>0.0</td>\n",
       "      <td>0.0</td>\n",
       "      <td>0.0</td>\n",
       "      <td>0.0</td>\n",
       "      <td>0.0</td>\n",
       "      <td>0.0</td>\n",
       "      <td>951.15</td>\n",
       "    </tr>\n",
       "    <tr>\n",
       "      <th>1</th>\n",
       "      <td>0.000000</td>\n",
       "      <td>0.0</td>\n",
       "      <td>0.0</td>\n",
       "      <td>0.627119</td>\n",
       "      <td>0.000000</td>\n",
       "      <td>0.000000</td>\n",
       "      <td>0.067797</td>\n",
       "      <td>0.220339</td>\n",
       "      <td>0.000000</td>\n",
       "      <td>0.0</td>\n",
       "      <td>...</td>\n",
       "      <td>0.0</td>\n",
       "      <td>0.0</td>\n",
       "      <td>0.000000</td>\n",
       "      <td>0.0</td>\n",
       "      <td>0.0</td>\n",
       "      <td>0.0</td>\n",
       "      <td>0.0</td>\n",
       "      <td>0.0</td>\n",
       "      <td>0.0</td>\n",
       "      <td>966.15</td>\n",
       "    </tr>\n",
       "    <tr>\n",
       "      <th>2</th>\n",
       "      <td>0.000000</td>\n",
       "      <td>0.0</td>\n",
       "      <td>0.0</td>\n",
       "      <td>0.622951</td>\n",
       "      <td>0.000000</td>\n",
       "      <td>0.000000</td>\n",
       "      <td>0.098361</td>\n",
       "      <td>0.196721</td>\n",
       "      <td>0.000000</td>\n",
       "      <td>0.0</td>\n",
       "      <td>...</td>\n",
       "      <td>0.0</td>\n",
       "      <td>0.0</td>\n",
       "      <td>0.000000</td>\n",
       "      <td>0.0</td>\n",
       "      <td>0.0</td>\n",
       "      <td>0.0</td>\n",
       "      <td>0.0</td>\n",
       "      <td>0.0</td>\n",
       "      <td>0.0</td>\n",
       "      <td>983.15</td>\n",
       "    </tr>\n",
       "    <tr>\n",
       "      <th>3</th>\n",
       "      <td>0.000000</td>\n",
       "      <td>0.0</td>\n",
       "      <td>0.0</td>\n",
       "      <td>0.619048</td>\n",
       "      <td>0.000000</td>\n",
       "      <td>0.000000</td>\n",
       "      <td>0.126984</td>\n",
       "      <td>0.174603</td>\n",
       "      <td>0.000000</td>\n",
       "      <td>0.0</td>\n",
       "      <td>...</td>\n",
       "      <td>0.0</td>\n",
       "      <td>0.0</td>\n",
       "      <td>0.000000</td>\n",
       "      <td>0.0</td>\n",
       "      <td>0.0</td>\n",
       "      <td>0.0</td>\n",
       "      <td>0.0</td>\n",
       "      <td>0.0</td>\n",
       "      <td>0.0</td>\n",
       "      <td>1012.15</td>\n",
       "    </tr>\n",
       "    <tr>\n",
       "      <th>4</th>\n",
       "      <td>0.000000</td>\n",
       "      <td>0.0</td>\n",
       "      <td>0.0</td>\n",
       "      <td>0.589063</td>\n",
       "      <td>0.134375</td>\n",
       "      <td>0.000000</td>\n",
       "      <td>0.062500</td>\n",
       "      <td>0.214062</td>\n",
       "      <td>0.000000</td>\n",
       "      <td>0.0</td>\n",
       "      <td>...</td>\n",
       "      <td>0.0</td>\n",
       "      <td>0.0</td>\n",
       "      <td>0.000000</td>\n",
       "      <td>0.0</td>\n",
       "      <td>0.0</td>\n",
       "      <td>0.0</td>\n",
       "      <td>0.0</td>\n",
       "      <td>0.0</td>\n",
       "      <td>0.0</td>\n",
       "      <td>898.15</td>\n",
       "    </tr>\n",
       "    <tr>\n",
       "      <th>...</th>\n",
       "      <td>...</td>\n",
       "      <td>...</td>\n",
       "      <td>...</td>\n",
       "      <td>...</td>\n",
       "      <td>...</td>\n",
       "      <td>...</td>\n",
       "      <td>...</td>\n",
       "      <td>...</td>\n",
       "      <td>...</td>\n",
       "      <td>...</td>\n",
       "      <td>...</td>\n",
       "      <td>...</td>\n",
       "      <td>...</td>\n",
       "      <td>...</td>\n",
       "      <td>...</td>\n",
       "      <td>...</td>\n",
       "      <td>...</td>\n",
       "      <td>...</td>\n",
       "      <td>...</td>\n",
       "      <td>...</td>\n",
       "      <td>...</td>\n",
       "    </tr>\n",
       "    <tr>\n",
       "      <th>43636</th>\n",
       "      <td>0.000000</td>\n",
       "      <td>0.0</td>\n",
       "      <td>0.0</td>\n",
       "      <td>0.666667</td>\n",
       "      <td>0.000000</td>\n",
       "      <td>0.055556</td>\n",
       "      <td>0.000000</td>\n",
       "      <td>0.000000</td>\n",
       "      <td>0.222222</td>\n",
       "      <td>0.0</td>\n",
       "      <td>...</td>\n",
       "      <td>0.0</td>\n",
       "      <td>0.0</td>\n",
       "      <td>0.000000</td>\n",
       "      <td>0.0</td>\n",
       "      <td>0.0</td>\n",
       "      <td>0.0</td>\n",
       "      <td>0.0</td>\n",
       "      <td>0.0</td>\n",
       "      <td>0.0</td>\n",
       "      <td>798.65</td>\n",
       "    </tr>\n",
       "    <tr>\n",
       "      <th>43637</th>\n",
       "      <td>0.125000</td>\n",
       "      <td>0.0</td>\n",
       "      <td>0.0</td>\n",
       "      <td>0.625000</td>\n",
       "      <td>0.000000</td>\n",
       "      <td>0.000000</td>\n",
       "      <td>0.000000</td>\n",
       "      <td>0.000000</td>\n",
       "      <td>0.208333</td>\n",
       "      <td>0.0</td>\n",
       "      <td>...</td>\n",
       "      <td>0.0</td>\n",
       "      <td>0.0</td>\n",
       "      <td>0.000000</td>\n",
       "      <td>0.0</td>\n",
       "      <td>0.0</td>\n",
       "      <td>0.0</td>\n",
       "      <td>0.0</td>\n",
       "      <td>0.0</td>\n",
       "      <td>0.0</td>\n",
       "      <td>610.65</td>\n",
       "    </tr>\n",
       "    <tr>\n",
       "      <th>43638</th>\n",
       "      <td>0.190476</td>\n",
       "      <td>0.0</td>\n",
       "      <td>0.0</td>\n",
       "      <td>0.619048</td>\n",
       "      <td>0.000000</td>\n",
       "      <td>0.000000</td>\n",
       "      <td>0.000000</td>\n",
       "      <td>0.000000</td>\n",
       "      <td>0.095238</td>\n",
       "      <td>0.0</td>\n",
       "      <td>...</td>\n",
       "      <td>0.0</td>\n",
       "      <td>0.0</td>\n",
       "      <td>0.095238</td>\n",
       "      <td>0.0</td>\n",
       "      <td>0.0</td>\n",
       "      <td>0.0</td>\n",
       "      <td>0.0</td>\n",
       "      <td>0.0</td>\n",
       "      <td>0.0</td>\n",
       "      <td>709.15</td>\n",
       "    </tr>\n",
       "    <tr>\n",
       "      <th>43639</th>\n",
       "      <td>0.000000</td>\n",
       "      <td>0.0</td>\n",
       "      <td>0.0</td>\n",
       "      <td>0.600000</td>\n",
       "      <td>0.000000</td>\n",
       "      <td>0.000000</td>\n",
       "      <td>0.000000</td>\n",
       "      <td>0.266667</td>\n",
       "      <td>0.000000</td>\n",
       "      <td>0.0</td>\n",
       "      <td>...</td>\n",
       "      <td>0.0</td>\n",
       "      <td>0.0</td>\n",
       "      <td>0.000000</td>\n",
       "      <td>0.0</td>\n",
       "      <td>0.0</td>\n",
       "      <td>0.0</td>\n",
       "      <td>0.0</td>\n",
       "      <td>0.0</td>\n",
       "      <td>0.0</td>\n",
       "      <td>767.15</td>\n",
       "    </tr>\n",
       "    <tr>\n",
       "      <th>43640</th>\n",
       "      <td>0.000000</td>\n",
       "      <td>0.0</td>\n",
       "      <td>0.0</td>\n",
       "      <td>0.610000</td>\n",
       "      <td>0.113333</td>\n",
       "      <td>0.000000</td>\n",
       "      <td>0.000000</td>\n",
       "      <td>0.276667</td>\n",
       "      <td>0.000000</td>\n",
       "      <td>0.0</td>\n",
       "      <td>...</td>\n",
       "      <td>0.0</td>\n",
       "      <td>0.0</td>\n",
       "      <td>0.000000</td>\n",
       "      <td>0.0</td>\n",
       "      <td>0.0</td>\n",
       "      <td>0.0</td>\n",
       "      <td>0.0</td>\n",
       "      <td>0.0</td>\n",
       "      <td>0.0</td>\n",
       "      <td>768.15</td>\n",
       "    </tr>\n",
       "  </tbody>\n",
       "</table>\n",
       "<p>43641 rows × 66 columns</p>\n",
       "</div>"
      ],
      "text/plain": [
       "             Li   Be    B         O        Na        Mg        Al        Si  \\\n",
       "0      0.000000  0.0  0.0  0.631579  0.000000  0.000000  0.035088  0.245614   \n",
       "1      0.000000  0.0  0.0  0.627119  0.000000  0.000000  0.067797  0.220339   \n",
       "2      0.000000  0.0  0.0  0.622951  0.000000  0.000000  0.098361  0.196721   \n",
       "3      0.000000  0.0  0.0  0.619048  0.000000  0.000000  0.126984  0.174603   \n",
       "4      0.000000  0.0  0.0  0.589063  0.134375  0.000000  0.062500  0.214062   \n",
       "...         ...  ...  ...       ...       ...       ...       ...       ...   \n",
       "43636  0.000000  0.0  0.0  0.666667  0.000000  0.055556  0.000000  0.000000   \n",
       "43637  0.125000  0.0  0.0  0.625000  0.000000  0.000000  0.000000  0.000000   \n",
       "43638  0.190476  0.0  0.0  0.619048  0.000000  0.000000  0.000000  0.000000   \n",
       "43639  0.000000  0.0  0.0  0.600000  0.000000  0.000000  0.000000  0.266667   \n",
       "43640  0.000000  0.0  0.0  0.610000  0.113333  0.000000  0.000000  0.276667   \n",
       "\n",
       "              P    K  ...   Hf   Ta         W   Hg   Tl   Pb   Bi   Th    U  \\\n",
       "0      0.000000  0.0  ...  0.0  0.0  0.000000  0.0  0.0  0.0  0.0  0.0  0.0   \n",
       "1      0.000000  0.0  ...  0.0  0.0  0.000000  0.0  0.0  0.0  0.0  0.0  0.0   \n",
       "2      0.000000  0.0  ...  0.0  0.0  0.000000  0.0  0.0  0.0  0.0  0.0  0.0   \n",
       "3      0.000000  0.0  ...  0.0  0.0  0.000000  0.0  0.0  0.0  0.0  0.0  0.0   \n",
       "4      0.000000  0.0  ...  0.0  0.0  0.000000  0.0  0.0  0.0  0.0  0.0  0.0   \n",
       "...         ...  ...  ...  ...  ...       ...  ...  ...  ...  ...  ...  ...   \n",
       "43636  0.222222  0.0  ...  0.0  0.0  0.000000  0.0  0.0  0.0  0.0  0.0  0.0   \n",
       "43637  0.208333  0.0  ...  0.0  0.0  0.000000  0.0  0.0  0.0  0.0  0.0  0.0   \n",
       "43638  0.095238  0.0  ...  0.0  0.0  0.095238  0.0  0.0  0.0  0.0  0.0  0.0   \n",
       "43639  0.000000  0.0  ...  0.0  0.0  0.000000  0.0  0.0  0.0  0.0  0.0  0.0   \n",
       "43640  0.000000  0.0  ...  0.0  0.0  0.000000  0.0  0.0  0.0  0.0  0.0  0.0   \n",
       "\n",
       "            Tg  \n",
       "0       951.15  \n",
       "1       966.15  \n",
       "2       983.15  \n",
       "3      1012.15  \n",
       "4       898.15  \n",
       "...        ...  \n",
       "43636   798.65  \n",
       "43637   610.65  \n",
       "43638   709.15  \n",
       "43639   767.15  \n",
       "43640   768.15  \n",
       "\n",
       "[43641 rows x 66 columns]"
      ]
     },
     "execution_count": 3,
     "metadata": {},
     "output_type": "execute_result"
    }
   ],
   "source": [
    "dataset"
   ]
  },
  {
   "attachments": {},
   "cell_type": "markdown",
   "metadata": {},
   "source": [
    "# Pré-processamento dos dados"
   ]
  },
  {
   "cell_type": "code",
   "execution_count": 4,
   "metadata": {},
   "outputs": [],
   "source": [
    "#remoção da coluna 'Tg' (alvo)\n",
    "dados_dim65 = dataset.drop(['Tg'], axis=1)"
   ]
  },
  {
   "attachments": {},
   "cell_type": "markdown",
   "metadata": {},
   "source": [
    "# UMAP"
   ]
  },
  {
   "cell_type": "code",
   "execution_count": 5,
   "metadata": {},
   "outputs": [],
   "source": [
    "reducer_umap = umap.UMAP(n_components = 10)"
   ]
  },
  {
   "cell_type": "code",
   "execution_count": 6,
   "metadata": {},
   "outputs": [
    {
     "data": {
      "text/plain": [
       "(43641, 10)"
      ]
     },
     "execution_count": 6,
     "metadata": {},
     "output_type": "execute_result"
    }
   ],
   "source": [
    "dim10_umap = reducer_umap.fit_transform(dados_dim65)\n",
    "dim10_umap.shape"
   ]
  },
  {
   "cell_type": "code",
   "execution_count": 7,
   "metadata": {},
   "outputs": [],
   "source": [
    "dim10_df = pd.DataFrame(dim10_umap)"
   ]
  },
  {
   "cell_type": "code",
   "execution_count": 8,
   "metadata": {},
   "outputs": [
    {
     "name": "stdout",
     "output_type": "stream",
     "text": [
      "Matrix of features\n",
      "[[ 6.7823405   4.459136    1.5902648  ...  5.7386994   4.0928884\n",
      "   6.7987814 ]\n",
      " [ 6.782222    4.457295    1.5794584  ...  5.7409267   4.0873046\n",
      "   6.8027577 ]\n",
      " [ 6.8643665   4.38929     1.4882108  ...  5.708819    4.013172\n",
      "   6.8805265 ]\n",
      " ...\n",
      " [15.409172    4.714055    3.0222237  ...  2.0647292   1.8566066\n",
      "   3.4831178 ]\n",
      " [ 7.6546245   5.61576     0.25902548 ...  3.5280495   6.798537\n",
      "   4.441728  ]\n",
      " [ 7.22741     5.279834    0.51183945 ...  4.272588    6.487992\n",
      "   5.060028  ]]\n",
      "--------------------------------------------------\n",
      "Target Variable\n",
      "[951.15 966.15 983.15 ... 709.15 767.15 768.15]\n",
      "(43641, 10)\n",
      "(43641,)\n"
     ]
    }
   ],
   "source": [
    "X = dim10_df.iloc[:,:].values\n",
    "y = dataset.iloc[:,-1].values\n",
    "print(\"Matrix of features\", X, sep='\\n')\n",
    "print(\"--------------------------------------------------\")\n",
    "print(\"Target Variable\", y, sep='\\n')\n",
    "print(X.shape)\n",
    "print(y.shape)"
   ]
  },
  {
   "cell_type": "code",
   "execution_count": 14,
   "metadata": {},
   "outputs": [
    {
     "data": {
      "text/plain": [
       "10"
      ]
     },
     "execution_count": 14,
     "metadata": {},
     "output_type": "execute_result"
    }
   ],
   "source": [
    "kf = KFold(n_splits=10, random_state=1, shuffle=True)\n",
    "kf.get_n_splits(X)"
   ]
  },
  {
   "cell_type": "code",
   "execution_count": 15,
   "metadata": {},
   "outputs": [
    {
     "name": "stdout",
     "output_type": "stream",
     "text": [
      "Fold 0:\n",
      " Train: index=[    0     1     2 ... 43638 43639 43640]\n",
      " Test: index=[   10    40    44 ... 43594 43607 43626]\n",
      "Fold 1:\n",
      " Train: index=[    0     1     2 ... 43638 43639 43640]\n",
      " Test: index=[    3     8    23 ... 43596 43598 43599]\n",
      "Fold 2:\n",
      " Train: index=[    0     1     3 ... 43638 43639 43640]\n",
      " Test: index=[    2    11    19 ... 43628 43630 43636]\n",
      "Fold 3:\n",
      " Train: index=[    0     1     2 ... 43638 43639 43640]\n",
      " Test: index=[   21    26    36 ... 43609 43616 43622]\n",
      "Fold 4:\n",
      " Train: index=[    1     2     3 ... 43638 43639 43640]\n",
      " Test: index=[    0    13    29 ... 43615 43619 43620]\n",
      "Fold 5:\n",
      " Train: index=[    0     1     2 ... 43638 43639 43640]\n",
      " Test: index=[    4     6     7 ... 43624 43632 43634]\n",
      "Fold 6:\n",
      " Train: index=[    0     1     2 ... 43638 43639 43640]\n",
      " Test: index=[    5    12    49 ... 43610 43631 43635]\n",
      "Fold 7:\n",
      " Train: index=[    0     2     3 ... 43636 43639 43640]\n",
      " Test: index=[    1    75    80 ... 43618 43637 43638]\n",
      "Fold 8:\n",
      " Train: index=[    0     1     2 ... 43637 43638 43639]\n",
      " Test: index=[    9    39    48 ... 43608 43621 43640]\n",
      "Fold 9:\n",
      " Train: index=[    0     1     2 ... 43637 43638 43640]\n",
      " Test: index=[   14    15    18 ... 43629 43633 43639]\n"
     ]
    }
   ],
   "source": [
    "for i, (train_index, test_index) in enumerate(kf.split(X)):\n",
    "    print(f\"Fold {i}:\")\n",
    "    print(f\" Train: index={train_index}\")\n",
    "    print(f\" Test: index={test_index}\")"
   ]
  },
  {
   "cell_type": "code",
   "execution_count": 16,
   "metadata": {},
   "outputs": [],
   "source": [
    "def rmse(score):\n",
    "    rmse = np.sqrt(-score)\n",
    "    print(f'rmse= {\"{:.2f}\".format(rmse)}')"
   ]
  },
  {
   "cell_type": "code",
   "execution_count": 17,
   "metadata": {},
   "outputs": [
    {
     "name": "stdout",
     "output_type": "stream",
     "text": [
      "Scores for each fold are: [-1365.12945784 -1546.14826948 -1571.57584756 -1517.30256386\n",
      " -1574.69891119 -1709.13568606 -1336.08507437 -1442.5615978\n",
      " -1659.33101478 -1427.19690866]\n",
      "rmse= 38.92\n"
     ]
    }
   ],
   "source": [
    "score = cross_val_score(ensemble.RandomForestRegressor(random_state=42), X, y, cv= kf, scoring=\"neg_mean_squared_error\")\n",
    "print(f'Scores for each fold are: {score}')\n",
    "rmse(score.mean())"
   ]
  },
  {
   "attachments": {},
   "cell_type": "markdown",
   "metadata": {},
   "source": [
    "# HDBSCAN - DEPOIS DE FAZER O KFOLD"
   ]
  },
  {
   "cell_type": "code",
   "execution_count": null,
   "metadata": {},
   "outputs": [],
   "source": [
    "import hdbscan\n",
    "import math"
   ]
  },
  {
   "cell_type": "code",
   "execution_count": 24,
   "metadata": {},
   "outputs": [
    {
     "name": "stdout",
     "output_type": "stream",
     "text": [
      "Fold 1:\n",
      " Train: index=[    0     1     2 ... 43638 43639 43640]\n",
      " Test: index=[    3     8    23 ... 43596 43598 43599]\n"
     ]
    }
   ],
   "source": [
    "for i, (train_index, test_index) in enumerate(kf.split(X)):\n",
    "    if i == 1:\n",
    "        print(f\"Fold {i}:\")\n",
    "        print(f\" Train: index={train_index}\")\n",
    "        print(f\" Test: index={test_index}\")\n",
    "        cluster = hdbscan.HDBSCAN(min_cluster_size=160, min_samples=80, prediction_data=True)\n",
    "        cluster.fit(X[train_index])\n",
    "        test_labels, strengths = hdbscan.approximate_predict(cluster, X[test_index])"
   ]
  },
  {
   "cell_type": "code",
   "execution_count": 17,
   "metadata": {},
   "outputs": [
    {
     "name": "stdout",
     "output_type": "stream",
     "text": [
      "[ 1  1  1 ...  2  2 -1]\n",
      "4364\n",
      "2\n"
     ]
    }
   ],
   "source": [
    "print(test_labels)\n",
    "print(len(test_labels))\n",
    "print(max(test_labels))"
   ]
  }
 ],
 "metadata": {
  "kernelspec": {
   "display_name": "Python 3",
   "language": "python",
   "name": "python3"
  },
  "language_info": {
   "codemirror_mode": {
    "name": "ipython",
    "version": 3
   },
   "file_extension": ".py",
   "mimetype": "text/x-python",
   "name": "python",
   "nbconvert_exporter": "python",
   "pygments_lexer": "ipython3",
   "version": "3.8.10"
  },
  "orig_nbformat": 4
 },
 "nbformat": 4,
 "nbformat_minor": 2
}
